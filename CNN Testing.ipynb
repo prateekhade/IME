{
 "cells": [
  {
   "cell_type": "code",
   "execution_count": 1,
   "metadata": {},
   "outputs": [
    {
     "name": "stderr",
     "output_type": "stream",
     "text": [
      "C:\\Users\\mlgpkhad\\AppData\\Local\\Continuum\\anaconda3\\lib\\site-packages\\h5py\\__init__.py:36: FutureWarning: Conversion of the second argument of issubdtype from `float` to `np.floating` is deprecated. In future, it will be treated as `np.float64 == np.dtype(float).type`.\n",
      "  from ._conv import register_converters as _register_converters\n",
      "Using TensorFlow backend.\n"
     ]
    }
   ],
   "source": [
    "from CNN import *\n",
    "from keras.datasets import mnist\n",
    "import cv2"
   ]
  },
  {
   "cell_type": "code",
   "execution_count": 2,
   "metadata": {},
   "outputs": [],
   "source": [
    "(x_train, y_train), (x_test, y_test)= mnist.load_data()\n",
    "x_train= x_train.reshape((x_train.shape[0], 28, 28, 1))\n",
    "x_train= x_train.astype('float32')/255\n",
    "x_test= x_test.reshape((x_test.shape[0], 28, 28, 1))\n",
    "x_test= x_test.astype('float32')/255"
   ]
  },
  {
   "cell_type": "code",
   "execution_count": 3,
   "metadata": {},
   "outputs": [],
   "source": [
    "cnn= CNN(X_train= x_train, X_test= x_test, y_train= y_train, y_test= y_test)"
   ]
  },
  {
   "cell_type": "code",
   "execution_count": 4,
   "metadata": {
    "scrolled": true
   },
   "outputs": [],
   "source": [
    "cnn.one_hot_encode()"
   ]
  },
  {
   "cell_type": "code",
   "execution_count": 5,
   "metadata": {},
   "outputs": [
    {
     "name": "stdout",
     "output_type": "stream",
     "text": [
      "\n",
      "Validation size: None\n",
      "Layers: None\n",
      "Learning rate: None\n",
      "Optimizer: None\n",
      "Loss: None\n",
      "Metrics: None\n",
      "Epochs: None\n",
      "Batch size: None\n",
      "\n",
      "\n",
      "CNN model: \n",
      "\n",
      " Empty DataFrame\n",
      "Columns: []\n",
      "Index: [filter, kernel_size, strides, padding, activation_function, l1, l2]\n"
     ]
    }
   ],
   "source": [
    "cnn.parameters()"
   ]
  },
  {
   "cell_type": "code",
   "execution_count": 6,
   "metadata": {},
   "outputs": [],
   "source": [
    "cnn.validation_size= 0.2\n",
    "cnn.layers_list= ['Conv2D', 'MaxPooling2D', 'Conv2D', 'MaxPooling2D', 'Flatten', 'Dense', 'Dense']\n",
    "cnn.lr_rate= 0.001\n",
    "cnn.optimizer= 'RMSprop'\n",
    "cnn.loss= 'categorical_crossentropy'\n",
    "cnn.metrics= ['accuracy']\n",
    "cnn.epochs= 10\n",
    "cnn.batch_size= 64"
   ]
  },
  {
   "cell_type": "code",
   "execution_count": 7,
   "metadata": {
    "scrolled": true
   },
   "outputs": [
    {
     "name": "stdout",
     "output_type": "stream",
     "text": [
      "\n",
      "Validation size: 0.2\n",
      "Layers: ['Conv2D_1', 'MaxPooling2D_2', 'Conv2D_3', 'MaxPooling2D_4', 'Flatten_5', 'Dense_6', 'Dense_7']\n",
      "Learning rate: 0.001\n",
      "Optimizer: RMSprop\n",
      "Loss: categorical_crossentropy\n",
      "Metrics: ['accuracy']\n",
      "Epochs: 10\n",
      "Batch size: 64\n",
      "\n",
      "\n",
      "CNN model: \n",
      "\n",
      "                     Conv2D_1 MaxPooling2D_2 Conv2D_3 MaxPooling2D_4 Flatten_5  \\\n",
      "filter                   NaN            NaN      NaN            NaN       NaN   \n",
      "kernel_size              NaN            NaN      NaN            NaN       NaN   \n",
      "strides                  NaN            NaN      NaN            NaN       NaN   \n",
      "padding                  NaN            NaN      NaN            NaN       NaN   \n",
      "activation_function      NaN            NaN      NaN            NaN       NaN   \n",
      "l1                       NaN            NaN      NaN            NaN       NaN   \n",
      "l2                       NaN            NaN      NaN            NaN       NaN   \n",
      "\n",
      "                    Dense_6 Dense_7  \n",
      "filter                  NaN     NaN  \n",
      "kernel_size             NaN     NaN  \n",
      "strides                 NaN     NaN  \n",
      "padding                 NaN     NaN  \n",
      "activation_function     NaN     NaN  \n",
      "l1                      NaN     NaN  \n",
      "l2                      NaN     NaN  \n"
     ]
    }
   ],
   "source": [
    "cnn.parameters()"
   ]
  },
  {
   "cell_type": "code",
   "execution_count": 8,
   "metadata": {},
   "outputs": [
    {
     "data": {
      "text/html": [
       "<div>\n",
       "<style scoped>\n",
       "    .dataframe tbody tr th:only-of-type {\n",
       "        vertical-align: middle;\n",
       "    }\n",
       "\n",
       "    .dataframe tbody tr th {\n",
       "        vertical-align: top;\n",
       "    }\n",
       "\n",
       "    .dataframe thead th {\n",
       "        text-align: right;\n",
       "    }\n",
       "</style>\n",
       "<table border=\"1\" class=\"dataframe\">\n",
       "  <thead>\n",
       "    <tr style=\"text-align: right;\">\n",
       "      <th></th>\n",
       "      <th>Conv2D_1</th>\n",
       "      <th>MaxPooling2D_2</th>\n",
       "      <th>Conv2D_3</th>\n",
       "      <th>MaxPooling2D_4</th>\n",
       "      <th>Flatten_5</th>\n",
       "      <th>Dense_6</th>\n",
       "      <th>Dense_7</th>\n",
       "    </tr>\n",
       "  </thead>\n",
       "  <tbody>\n",
       "    <tr>\n",
       "      <th>filter</th>\n",
       "      <td>NaN</td>\n",
       "      <td>NaN</td>\n",
       "      <td>NaN</td>\n",
       "      <td>NaN</td>\n",
       "      <td>NaN</td>\n",
       "      <td>NaN</td>\n",
       "      <td>NaN</td>\n",
       "    </tr>\n",
       "    <tr>\n",
       "      <th>kernel_size</th>\n",
       "      <td>NaN</td>\n",
       "      <td>NaN</td>\n",
       "      <td>NaN</td>\n",
       "      <td>NaN</td>\n",
       "      <td>NaN</td>\n",
       "      <td>NaN</td>\n",
       "      <td>NaN</td>\n",
       "    </tr>\n",
       "    <tr>\n",
       "      <th>strides</th>\n",
       "      <td>NaN</td>\n",
       "      <td>NaN</td>\n",
       "      <td>NaN</td>\n",
       "      <td>NaN</td>\n",
       "      <td>NaN</td>\n",
       "      <td>NaN</td>\n",
       "      <td>NaN</td>\n",
       "    </tr>\n",
       "    <tr>\n",
       "      <th>padding</th>\n",
       "      <td>NaN</td>\n",
       "      <td>NaN</td>\n",
       "      <td>NaN</td>\n",
       "      <td>NaN</td>\n",
       "      <td>NaN</td>\n",
       "      <td>NaN</td>\n",
       "      <td>NaN</td>\n",
       "    </tr>\n",
       "    <tr>\n",
       "      <th>activation_function</th>\n",
       "      <td>NaN</td>\n",
       "      <td>NaN</td>\n",
       "      <td>NaN</td>\n",
       "      <td>NaN</td>\n",
       "      <td>NaN</td>\n",
       "      <td>NaN</td>\n",
       "      <td>NaN</td>\n",
       "    </tr>\n",
       "    <tr>\n",
       "      <th>l1</th>\n",
       "      <td>NaN</td>\n",
       "      <td>NaN</td>\n",
       "      <td>NaN</td>\n",
       "      <td>NaN</td>\n",
       "      <td>NaN</td>\n",
       "      <td>NaN</td>\n",
       "      <td>NaN</td>\n",
       "    </tr>\n",
       "    <tr>\n",
       "      <th>l2</th>\n",
       "      <td>NaN</td>\n",
       "      <td>NaN</td>\n",
       "      <td>NaN</td>\n",
       "      <td>NaN</td>\n",
       "      <td>NaN</td>\n",
       "      <td>NaN</td>\n",
       "      <td>NaN</td>\n",
       "    </tr>\n",
       "  </tbody>\n",
       "</table>\n",
       "</div>"
      ],
      "text/plain": [
       "                    Conv2D_1 MaxPooling2D_2 Conv2D_3 MaxPooling2D_4 Flatten_5  \\\n",
       "filter                   NaN            NaN      NaN            NaN       NaN   \n",
       "kernel_size              NaN            NaN      NaN            NaN       NaN   \n",
       "strides                  NaN            NaN      NaN            NaN       NaN   \n",
       "padding                  NaN            NaN      NaN            NaN       NaN   \n",
       "activation_function      NaN            NaN      NaN            NaN       NaN   \n",
       "l1                       NaN            NaN      NaN            NaN       NaN   \n",
       "l2                       NaN            NaN      NaN            NaN       NaN   \n",
       "\n",
       "                    Dense_6 Dense_7  \n",
       "filter                  NaN     NaN  \n",
       "kernel_size             NaN     NaN  \n",
       "strides                 NaN     NaN  \n",
       "padding                 NaN     NaN  \n",
       "activation_function     NaN     NaN  \n",
       "l1                      NaN     NaN  \n",
       "l2                      NaN     NaN  "
      ]
     },
     "execution_count": 8,
     "metadata": {},
     "output_type": "execute_result"
    }
   ],
   "source": [
    "cnn.layers"
   ]
  },
  {
   "cell_type": "code",
   "execution_count": 9,
   "metadata": {},
   "outputs": [],
   "source": [
    "cnn.layers['Conv2D_1']= [32, (3,3), (1,1), 'valid', 'relu', None, None]"
   ]
  },
  {
   "cell_type": "code",
   "execution_count": 10,
   "metadata": {},
   "outputs": [],
   "source": [
    "cnn.layers['MaxPooling2D_2']['kernel_size']= (2,2)\n",
    "cnn.layers['Conv2D_3']= [64, (3,3), (1,1), 'valid', 'relu', None, None]"
   ]
  },
  {
   "cell_type": "code",
   "execution_count": 11,
   "metadata": {},
   "outputs": [],
   "source": [
    "cnn.layers['MaxPooling2D_4']['kernel_size']= (2,2)"
   ]
  },
  {
   "cell_type": "code",
   "execution_count": 12,
   "metadata": {},
   "outputs": [],
   "source": [
    "cnn.layers.iloc[0, 5:7]= [64, 10]\n",
    "cnn.layers.iloc[4, 5:7]= ['relu', 'softmax']"
   ]
  },
  {
   "cell_type": "code",
   "execution_count": 13,
   "metadata": {},
   "outputs": [
    {
     "data": {
      "text/html": [
       "<div>\n",
       "<style scoped>\n",
       "    .dataframe tbody tr th:only-of-type {\n",
       "        vertical-align: middle;\n",
       "    }\n",
       "\n",
       "    .dataframe tbody tr th {\n",
       "        vertical-align: top;\n",
       "    }\n",
       "\n",
       "    .dataframe thead th {\n",
       "        text-align: right;\n",
       "    }\n",
       "</style>\n",
       "<table border=\"1\" class=\"dataframe\">\n",
       "  <thead>\n",
       "    <tr style=\"text-align: right;\">\n",
       "      <th></th>\n",
       "      <th>Conv2D_1</th>\n",
       "      <th>MaxPooling2D_2</th>\n",
       "      <th>Conv2D_3</th>\n",
       "      <th>MaxPooling2D_4</th>\n",
       "      <th>Flatten_5</th>\n",
       "      <th>Dense_6</th>\n",
       "      <th>Dense_7</th>\n",
       "    </tr>\n",
       "  </thead>\n",
       "  <tbody>\n",
       "    <tr>\n",
       "      <th>filter</th>\n",
       "      <td>32</td>\n",
       "      <td>NaN</td>\n",
       "      <td>64</td>\n",
       "      <td>NaN</td>\n",
       "      <td>NaN</td>\n",
       "      <td>64</td>\n",
       "      <td>10</td>\n",
       "    </tr>\n",
       "    <tr>\n",
       "      <th>kernel_size</th>\n",
       "      <td>(3, 3)</td>\n",
       "      <td>(2, 2)</td>\n",
       "      <td>(3, 3)</td>\n",
       "      <td>(2, 2)</td>\n",
       "      <td>NaN</td>\n",
       "      <td>NaN</td>\n",
       "      <td>NaN</td>\n",
       "    </tr>\n",
       "    <tr>\n",
       "      <th>strides</th>\n",
       "      <td>(1, 1)</td>\n",
       "      <td>NaN</td>\n",
       "      <td>(1, 1)</td>\n",
       "      <td>NaN</td>\n",
       "      <td>NaN</td>\n",
       "      <td>NaN</td>\n",
       "      <td>NaN</td>\n",
       "    </tr>\n",
       "    <tr>\n",
       "      <th>padding</th>\n",
       "      <td>valid</td>\n",
       "      <td>NaN</td>\n",
       "      <td>valid</td>\n",
       "      <td>NaN</td>\n",
       "      <td>NaN</td>\n",
       "      <td>NaN</td>\n",
       "      <td>NaN</td>\n",
       "    </tr>\n",
       "    <tr>\n",
       "      <th>activation_function</th>\n",
       "      <td>relu</td>\n",
       "      <td>NaN</td>\n",
       "      <td>relu</td>\n",
       "      <td>NaN</td>\n",
       "      <td>NaN</td>\n",
       "      <td>relu</td>\n",
       "      <td>softmax</td>\n",
       "    </tr>\n",
       "    <tr>\n",
       "      <th>l1</th>\n",
       "      <td>None</td>\n",
       "      <td>NaN</td>\n",
       "      <td>None</td>\n",
       "      <td>NaN</td>\n",
       "      <td>NaN</td>\n",
       "      <td>NaN</td>\n",
       "      <td>NaN</td>\n",
       "    </tr>\n",
       "    <tr>\n",
       "      <th>l2</th>\n",
       "      <td>None</td>\n",
       "      <td>NaN</td>\n",
       "      <td>None</td>\n",
       "      <td>NaN</td>\n",
       "      <td>NaN</td>\n",
       "      <td>NaN</td>\n",
       "      <td>NaN</td>\n",
       "    </tr>\n",
       "  </tbody>\n",
       "</table>\n",
       "</div>"
      ],
      "text/plain": [
       "                    Conv2D_1 MaxPooling2D_2 Conv2D_3 MaxPooling2D_4 Flatten_5  \\\n",
       "filter                    32            NaN       64            NaN       NaN   \n",
       "kernel_size           (3, 3)         (2, 2)   (3, 3)         (2, 2)       NaN   \n",
       "strides               (1, 1)            NaN   (1, 1)            NaN       NaN   \n",
       "padding                valid            NaN    valid            NaN       NaN   \n",
       "activation_function     relu            NaN     relu            NaN       NaN   \n",
       "l1                      None            NaN     None            NaN       NaN   \n",
       "l2                      None            NaN     None            NaN       NaN   \n",
       "\n",
       "                    Dense_6  Dense_7  \n",
       "filter                   64       10  \n",
       "kernel_size             NaN      NaN  \n",
       "strides                 NaN      NaN  \n",
       "padding                 NaN      NaN  \n",
       "activation_function    relu  softmax  \n",
       "l1                      NaN      NaN  \n",
       "l2                      NaN      NaN  "
      ]
     },
     "execution_count": 13,
     "metadata": {},
     "output_type": "execute_result"
    }
   ],
   "source": [
    "cnn.layers"
   ]
  },
  {
   "cell_type": "code",
   "execution_count": 14,
   "metadata": {
    "scrolled": true
   },
   "outputs": [
    {
     "name": "stdout",
     "output_type": "stream",
     "text": [
      "Train on 48000 samples, validate on 12000 samples\n",
      "Epoch 1/10\n",
      "48000/48000 [==============================] - 44s 915us/step - loss: 0.1953 - acc: 0.9399 - val_loss: 0.0919 - val_acc: 0.9734\n",
      "Epoch 2/10\n",
      "48000/48000 [==============================] - 42s 868us/step - loss: 0.0558 - acc: 0.9831 - val_loss: 0.0435 - val_acc: 0.9860\n",
      "Epoch 3/10\n",
      "48000/48000 [==============================] - 41s 861us/step - loss: 0.0380 - acc: 0.9884 - val_loss: 0.0449 - val_acc: 0.9872\n",
      "Epoch 4/10\n",
      "48000/48000 [==============================] - 42s 866us/step - loss: 0.0286 - acc: 0.9909 - val_loss: 0.0388 - val_acc: 0.9886\n",
      "Epoch 5/10\n",
      "48000/48000 [==============================] - 41s 859us/step - loss: 0.0227 - acc: 0.9930 - val_loss: 0.0471 - val_acc: 0.9868\n",
      "Epoch 6/10\n",
      "48000/48000 [==============================] - 41s 858us/step - loss: 0.0167 - acc: 0.9947 - val_loss: 0.0433 - val_acc: 0.9882\n",
      "Epoch 7/10\n",
      "48000/48000 [==============================] - 41s 856us/step - loss: 0.0134 - acc: 0.9958 - val_loss: 0.0366 - val_acc: 0.9906\n",
      "Epoch 8/10\n",
      "48000/48000 [==============================] - 43s 892us/step - loss: 0.0106 - acc: 0.9965 - val_loss: 0.0429 - val_acc: 0.9899\n",
      "Epoch 9/10\n",
      "48000/48000 [==============================] - 42s 867us/step - loss: 0.0085 - acc: 0.9974 - val_loss: 0.0497 - val_acc: 0.9892\n",
      "Epoch 10/10\n",
      "48000/48000 [==============================] - 42s 875us/step - loss: 0.0071 - acc: 0.9978 - val_loss: 0.0453 - val_acc: 0.9907\n"
     ]
    },
    {
     "data": {
      "image/png": "[encoded data removed]",
      "text/plain": [
       "<Figure size 432x288 with 1 Axes>"
      ]
     },
     "metadata": {},
     "output_type": "display_data"
    },
    {
     "data": {
      "image/png": "[encoded data removed]",
      "text/plain": [
       "<Figure size 432x288 with 1 Axes>"
      ]
     },
     "metadata": {},
     "output_type": "display_data"
    },
    {
     "data": {
      "text/plain": [
       "<Figure size 432x288 with 0 Axes>"
      ]
     },
     "metadata": {},
     "output_type": "display_data"
    },
    {
     "data": {
      "image/png": "[encoded data removed]",
      "text/plain": [
       "<Figure size 432x288 with 1 Axes>"
      ]
     },
     "metadata": {},
     "output_type": "display_data"
    },
    {
     "name": "stdout",
     "output_type": "stream",
     "text": [
      "\n",
      "   True  Predicted\n",
      "0     7          7\n",
      "1     2          2\n",
      "2     1          1\n",
      "3     0          0\n",
      "4     4          4\n",
      "5     1          1\n",
      "6     4          4\n",
      "7     9          9\n",
      "8     5          5\n",
      "9     9          9\n",
      "\n",
      "\n",
      "Classification Report: \n",
      "             precision    recall  f1-score   support\n",
      "\n",
      "          0       0.99      0.99      0.99       980\n",
      "          1       1.00      1.00      1.00      1135\n",
      "          2       0.99      0.99      0.99      1032\n",
      "          3       0.97      1.00      0.99      1010\n",
      "          4       0.99      0.99      0.99       982\n",
      "          5       0.99      0.98      0.99       892\n",
      "          6       1.00      0.99      0.99       958\n",
      "          7       0.99      0.99      0.99      1028\n",
      "          8       0.99      0.99      0.99       974\n",
      "          9       0.99      0.99      0.99      1009\n",
      "\n",
      "avg / total       0.99      0.99      0.99     10000\n",
      "\n",
      "\n",
      "\n",
      "Confusion matrix:\n",
      "\n",
      "     0     1     2     3    4    5    6     7    8    9\n",
      "0  975     1     1     0    0    0    0     2    1    0\n",
      "1    0  1133     0     2    0    0    0     0    0    0\n",
      "2    0     1  1018     4    0    0    0     8    1    0\n",
      "3    0     0     0  1009    0    1    0     0    0    0\n",
      "4    0     0     0     0  977    0    0     0    0    5\n",
      "5    0     0     1    13    0  875    1     1    0    1\n",
      "6    3     2     1     0    1    2  947     0    2    0\n",
      "7    0     1     2     3    0    0    0  1018    1    3\n",
      "8    1     0     3     4    0    2    0     2  961    1\n",
      "9    1     0     1     3    4    3    0     2    1  994\n"
     ]
    }
   ],
   "source": [
    "cnn.train(plot_results=True, evaluate_test=True)"
   ]
  },
  {
   "cell_type": "code",
   "execution_count": null,
   "metadata": {},
   "outputs": [],
   "source": [
    "# cnn.k= 3"
   ]
  },
  {
   "cell_type": "code",
   "execution_count": null,
   "metadata": {
    "scrolled": true
   },
   "outputs": [],
   "source": [
    "# cnn.cross_val()"
   ]
  },
  {
   "cell_type": "code",
   "execution_count": 15,
   "metadata": {},
   "outputs": [
    {
     "name": "stdout",
     "output_type": "stream",
     "text": [
      "_________________________________________________________________\n",
      "Layer (type)                 Output Shape              Param #   \n",
      "=================================================================\n",
      "conv2d_1 (Conv2D)            (None, 26, 26, 32)        320       \n",
      "_________________________________________________________________\n",
      "max_pooling2d_1 (MaxPooling2 (None, 13, 13, 32)        0         \n",
      "_________________________________________________________________\n",
      "conv2d_2 (Conv2D)            (None, 11, 11, 64)        18496     \n",
      "_________________________________________________________________\n",
      "max_pooling2d_2 (MaxPooling2 (None, 5, 5, 64)          0         \n",
      "_________________________________________________________________\n",
      "flatten_1 (Flatten)          (None, 1600)              0         \n",
      "_________________________________________________________________\n",
      "dense_1 (Dense)              (None, 64)                102464    \n",
      "_________________________________________________________________\n",
      "dense_2 (Dense)              (None, 10)                650       \n",
      "=================================================================\n",
      "Total params: 121,930\n",
      "Trainable params: 121,930\n",
      "Non-trainable params: 0\n",
      "_________________________________________________________________\n"
     ]
    }
   ],
   "source": [
    "cnn.model.summary()"
   ]
  },
  {
   "cell_type": "code",
   "execution_count": 16,
   "metadata": {},
   "outputs": [
    {
     "name": "stdout",
     "output_type": "stream",
     "text": [
      "0.jpg: 0\n",
      "1.jpg: 1\n",
      "2.jpg: 2\n",
      "3.jpg: 3\n",
      "4.jpg: 4\n",
      "5.jpg: 5\n",
      "6.jpg: 6\n",
      "7.jpg: 7\n",
      "8.jpg: 8\n",
      "9.jpg: 9\n",
      "Extra_1.jpg: 1\n",
      "Extra_8.jpg: 8\n"
     ]
    }
   ],
   "source": [
    "# Predicting images from the test directory for mnist\n",
    "def predict_img(obj, img, flenme):\n",
    "    print(\"{}: {}\".format(flenme, obj.model.predict(img.reshape(1, obj.img_rows_ht, obj.img_cols_wd, obj.img_channels)).argmax()))\n",
    "\n",
    "path= \"C:/Users/mlgpkhad/Desktop/ML/Test/mnist/test_imgs/\"\n",
    "\n",
    "for file in os.listdir(path):\n",
    "    img= cv2.imread(os.path.join(path,file), 0)\n",
    "    predict_img(cnn, img, file)"
   ]
  },
  {
   "cell_type": "code",
   "execution_count": 26,
   "metadata": {},
   "outputs": [
    {
     "name": "stdout",
     "output_type": "stream",
     "text": [
      "_________________________________________________________________\n",
      "Layer (type)                 Output Shape              Param #   \n",
      "=================================================================\n",
      "conv2d_1 (Conv2D)            (None, 26, 26, 32)        320       \n",
      "_________________________________________________________________\n",
      "max_pooling2d_1 (MaxPooling2 (None, 13, 13, 32)        0         \n",
      "_________________________________________________________________\n",
      "conv2d_2 (Conv2D)            (None, 11, 11, 64)        18496     \n",
      "_________________________________________________________________\n",
      "max_pooling2d_2 (MaxPooling2 (None, 5, 5, 64)          0         \n",
      "_________________________________________________________________\n",
      "flatten_1 (Flatten)          (None, 1600)              0         \n",
      "_________________________________________________________________\n",
      "dense_1 (Dense)              (None, 64)                102464    \n",
      "_________________________________________________________________\n",
      "dense_2 (Dense)              (None, 10)                650       \n",
      "=================================================================\n",
      "Total params: 121,930\n",
      "Trainable params: 121,930\n",
      "Non-trainable params: 0\n",
      "_________________________________________________________________\n"
     ]
    },
    {
     "data": {
      "image/png": "[encoded data removed]",
      "text/plain": [
       "<Figure size 432x288 with 1 Axes>"
      ]
     },
     "metadata": {},
     "output_type": "display_data"
    },
    {
     "data": {
      "image/png": "[encoded data removed]",
      "text/plain": [
       "<Figure size 720x864 with 32 Axes>"
      ]
     },
     "metadata": {},
     "output_type": "display_data"
    }
   ],
   "source": [
    "# Vizualizing convolutions\n",
    "from keras.models import Model\n",
    "\n",
    "layer_outputs= [layer.output for layer in cnn.model.layers]\n",
    "activation_model= Model(inputs= cnn.model.input, outputs= layer_outputs)\n",
    "activations = activation_model.predict(cnn.X_train[11].reshape(1,28,28,1))\n",
    "\n",
    "cnn.model.summary()\n",
    "\n",
    "def display_activation(activations, col_size, row_size, act_index): \n",
    "    activation = activations[act_index]\n",
    "    activation_index=0\n",
    "    fig, ax = plt.subplots(row_size, col_size, figsize=(row_size*2.5,col_size*1.5))\n",
    "    for row in range(0,row_size):\n",
    "        for col in range(0,col_size):\n",
    "            ax[row][col].imshow(activation[0, :, :, activation_index], cmap='gray')\n",
    "            activation_index += 1\n",
    "\n",
    "plt.imshow(cnn.X_train[11][:, :, 0])\n",
    "display_activation(activations, 8, 4, 3)"
   ]
  },
  {
   "cell_type": "code",
   "execution_count": null,
   "metadata": {},
   "outputs": [],
   "source": []
  }
 ],
 "metadata": {
  "kernelspec": {
   "display_name": "Python 3",
   "language": "python",
   "name": "python3"
  },
  "language_info": {
   "codemirror_mode": {
    "name": "ipython",
    "version": 3
   },
   "file_extension": ".py",
   "mimetype": "text/x-python",
   "name": "python",
   "nbconvert_exporter": "python",
   "pygments_lexer": "ipython3",
   "version": "3.6.5"
  }
 },
 "nbformat": 4,
 "nbformat_minor": 2
}
